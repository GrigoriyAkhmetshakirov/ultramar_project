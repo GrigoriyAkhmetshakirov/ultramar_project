{
 "cells": [
  {
   "cell_type": "code",
   "execution_count": 1,
   "metadata": {},
   "outputs": [],
   "source": [
    "import os\n",
    "import cv2\n",
    "import matplotlib.pyplot as plt\n",
    "from roboflow import Roboflow\n",
    "from tqdm import tqdm\n",
    "import random\n",
    "\n",
    "from NumberExtractor import NumberExtractor"
   ]
  },
  {
   "cell_type": "code",
   "execution_count": 2,
   "metadata": {},
   "outputs": [],
   "source": [
    "# rf = Roboflow(api_key=\"yYTPMUcknSdK3To30IXC\")\n",
    "# project = rf.workspace(\"akhmetshakirov\").project(\"containers-kkims\")\n",
    "# version = project.version(16)\n",
    "# dataset = version.download(\"yolov11\")"
   ]
  },
  {
   "cell_type": "code",
   "execution_count": 3,
   "metadata": {},
   "outputs": [],
   "source": [
    "# extractor = NumberExtractor()\n",
    "# for i in range(len(images)):\n",
    "#     img = (os.path.join('containers-16/test/images', images[i]))\n",
    "#     parsed = extractor.parse_predictions(img, conf=0.5)\n",
    "#     for pars in parsed:\n",
    "#         try:\n",
    "#             os.mkdir(os.path.join('parsed_images', str(pars[0])))\n",
    "#         except:\n",
    "#             pass\n",
    "#         cv2.imwrite(os.path.join('parsed_images', str(pars[0]), f'{i}.jpg'), cv2.imread(img))"
   ]
  },
  {
   "cell_type": "code",
   "execution_count": null,
   "metadata": {},
   "outputs": [],
   "source": [
    "# os.chdir('../')\n",
    "os.chdir('containers-16/test/images/')\n",
    "# os.chdir('parsed_images/number_h')\n",
    "images = os.listdir('.')\n",
    "random.shuffle(images)\n",
    "len(images)"
   ]
  },
  {
   "cell_type": "code",
   "execution_count": null,
   "metadata": {},
   "outputs": [],
   "source": [
    "extractor = NumberExtractor()\n",
    "for i, image in enumerate(tqdm(images[::])):\n",
    "    extractor.get_cargo_number(cv2.imread(image))\n",
    "    extractor.get_accuracy(verbose=True)\n",
    "print(extractor.predicted_numbers_count/(i+1))\n",
    "extractor.get_accuracy(verbose=True)"
   ]
  },
  {
   "cell_type": "code",
   "execution_count": null,
   "metadata": {},
   "outputs": [],
   "source": [
    "print(extractor.predicted_numbers_count/(i+1))\n",
    "extractor.get_accuracy(verbose=True)"
   ]
  },
  {
   "cell_type": "markdown",
   "metadata": {},
   "source": [
    "# All numbers\n",
    "- 0.91\n",
    "- Predicted 1420 numbers, correctly predicted 1327 numbers, accuracy is 0.935"
   ]
  },
  {
   "cell_type": "markdown",
   "metadata": {},
   "source": [
    "# Vertical numbers\n",
    "- 0.9617777777777777\n",
    "- Predicted 1082 numbers, correctly predicted 1023 numbers, accuracy is 0.945"
   ]
  },
  {
   "cell_type": "markdown",
   "metadata": {},
   "source": [
    "# Paired numbers\n",
    "- 0.9285714285714286\n",
    "- Predicted 143 numbers, correctly predicted 135 numbers, accuracy is 0.944"
   ]
  },
  {
   "cell_type": "markdown",
   "metadata": {},
   "source": [
    "# Horizontal numbers\n",
    "- 0.9617224880382775\n",
    "- Predicted 201 numbers, correctly predicted 182 numbers, accuracy is 0.905"
   ]
  }
 ],
 "metadata": {
  "kernelspec": {
   "display_name": "venv",
   "language": "python",
   "name": "python3"
  },
  "language_info": {
   "codemirror_mode": {
    "name": "ipython",
    "version": 3
   },
   "file_extension": ".py",
   "mimetype": "text/x-python",
   "name": "python",
   "nbconvert_exporter": "python",
   "pygments_lexer": "ipython3",
   "version": "3.8.0"
  }
 },
 "nbformat": 4,
 "nbformat_minor": 2
}
